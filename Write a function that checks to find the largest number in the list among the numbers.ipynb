{
 "cells": [
  {
   "cell_type": "code",
   "execution_count": 19,
   "id": "d246ac9d",
   "metadata": {},
   "outputs": [],
   "source": [
    "def myMax(lst):\n",
    "    max_num = lst[0]\n",
    "    for item in lst:\n",
    "        if item > max_num:\n",
    "            max_num=item\n",
    "    return max_num\n"
   ]
  },
  {
   "cell_type": "code",
   "execution_count": 20,
   "id": "4cc373b9",
   "metadata": {},
   "outputs": [],
   "source": [
    "lst1=[67,98,76,55,34,1]"
   ]
  },
  {
   "cell_type": "code",
   "execution_count": 21,
   "id": "2ca18cce",
   "metadata": {},
   "outputs": [
    {
     "data": {
      "text/plain": [
       "98"
      ]
     },
     "execution_count": 21,
     "metadata": {},
     "output_type": "execute_result"
    }
   ],
   "source": [
    "myMax(lst1)"
   ]
  },
  {
   "cell_type": "code",
   "execution_count": 7,
   "id": "50d77f20",
   "metadata": {},
   "outputs": [
    {
     "name": "stdout",
     "output_type": "stream",
     "text": [
      "98\n"
     ]
    }
   ],
   "source": [
    "# python code to print largest element in the list\n",
    "\n",
    "lst1=[67,98,76,55,34,1]\n",
    "print(max(lst1, key=lambda value: int(value)) )\n"
   ]
  },
  {
   "cell_type": "code",
   "execution_count": null,
   "id": "0ecb45cc",
   "metadata": {},
   "outputs": [],
   "source": []
  }
 ],
 "metadata": {
  "kernelspec": {
   "display_name": "Python 3 (ipykernel)",
   "language": "python",
   "name": "python3"
  },
  "language_info": {
   "codemirror_mode": {
    "name": "ipython",
    "version": 3
   },
   "file_extension": ".py",
   "mimetype": "text/x-python",
   "name": "python",
   "nbconvert_exporter": "python",
   "pygments_lexer": "ipython3",
   "version": "3.9.17"
  }
 },
 "nbformat": 4,
 "nbformat_minor": 5
}
